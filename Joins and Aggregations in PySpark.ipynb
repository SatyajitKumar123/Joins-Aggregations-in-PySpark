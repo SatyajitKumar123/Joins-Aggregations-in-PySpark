{
 "cells": [
  {
   "cell_type": "code",
   "execution_count": 1,
   "id": "206f16e7-d942-45ab-ba80-5b7f0d31bdef",
   "metadata": {},
   "outputs": [],
   "source": [
    "from pyspark.sql import SparkSession\n",
    "from pyspark.sql.functions import *\n",
    "from pyspark.sql.types import *"
   ]
  },
  {
   "cell_type": "code",
   "execution_count": 38,
   "id": "748d807b-ec00-42d2-88c3-c277ac83169f",
   "metadata": {},
   "outputs": [],
   "source": [
    "spark = SparkSession.builder.appName('PySparkPractice').getOrCreate()"
   ]
  },
  {
   "cell_type": "code",
   "execution_count": 39,
   "id": "be6358e8-31bf-40d4-a68c-76bf2af14a55",
   "metadata": {},
   "outputs": [
    {
     "name": "stdout",
     "output_type": "stream",
     "text": [
      "+-----------+----------+--------+----------+--------+\n",
      "|customer_id|order_date|order_id|product_id|quantity|\n",
      "+-----------+----------+--------+----------+--------+\n",
      "|        101|2023-01-15|       1|       501|       2|\n",
      "|        102|2023-01-16|       2|       502|       1|\n",
      "|        101|2023-01-17|       3|       503|       3|\n",
      "|        103|2023-01-18|       4|       502|       2|\n",
      "|        102|2023-01-19|       5|       501|       1|\n",
      "+-----------+----------+--------+----------+--------+\n",
      "\n",
      "+-----------+------+----------+------------+\n",
      "|   category| price|product_id|product_name|\n",
      "+-----------+------+----------+------------+\n",
      "|Electronics|999.99|       501|      Laptop|\n",
      "|  Furniture|149.99|       502|  Desk Chair|\n",
      "|Electronics|699.99|       503|  Smartphone|\n",
      "|Electronics|249.99|       504|     Monitor|\n",
      "+-----------+------+----------+------------+\n",
      "\n"
     ]
    }
   ],
   "source": [
    "orders_data = [\n",
    "    {\"order_id\": 1, \"customer_id\": 101, \"product_id\": 501, \"quantity\": 2, \"order_date\": \"2023-01-15\"},\n",
    "    {\"order_id\": 2, \"customer_id\": 102, \"product_id\": 502, \"quantity\": 1, \"order_date\": \"2023-01-16\"},\n",
    "    {\"order_id\": 3, \"customer_id\": 101, \"product_id\": 503, \"quantity\": 3, \"order_date\": \"2023-01-17\"},\n",
    "    {\"order_id\": 4, \"customer_id\": 103, \"product_id\": 502, \"quantity\": 2, \"order_date\": \"2023-01-18\"},\n",
    "    {\"order_id\": 5, \"customer_id\": 102, \"product_id\": 501, \"quantity\": 1, \"order_date\": \"2023-01-19\"}\n",
    "]\n",
    "\n",
    "products_data = [\n",
    "    {\"product_id\": 501, \"product_name\": \"Laptop\", \"price\": 999.99, \"category\": \"Electronics\"},\n",
    "    {\"product_id\": 502, \"product_name\": \"Desk Chair\", \"price\": 149.99, \"category\": \"Furniture\"},\n",
    "    {\"product_id\": 503, \"product_name\": \"Smartphone\", \"price\": 699.99, \"category\": \"Electronics\"},\n",
    "    {\"product_id\": 504, \"product_name\": \"Monitor\", \"price\": 249.99, \"category\": \"Electronics\"}\n",
    "]\n",
    "\n",
    "orders_df = spark.createDataFrame(orders_data)\n",
    "products_df = spark.createDataFrame(products_data)\n",
    "\n",
    "orders_df.show()\n",
    "products_df.show()"
   ]
  },
  {
   "cell_type": "markdown",
   "id": "16a1292f-02dc-4363-9dc0-39eaa918faf5",
   "metadata": {},
   "source": [
    "## Perform an inner join between orders and products"
   ]
  },
  {
   "cell_type": "code",
   "execution_count": 40,
   "id": "d9ea5e4e-e111-4595-81ae-6135d04a4575",
   "metadata": {},
   "outputs": [
    {
     "name": "stdout",
     "output_type": "stream",
     "text": [
      "+----------+-----------+----------+--------+--------+-----------+------+------------+\n",
      "|product_id|customer_id|order_date|order_id|quantity|   category| price|product_name|\n",
      "+----------+-----------+----------+--------+--------+-----------+------+------------+\n",
      "|       501|        101|2023-01-15|       1|       2|Electronics|999.99|      Laptop|\n",
      "|       501|        102|2023-01-19|       5|       1|Electronics|999.99|      Laptop|\n",
      "|       502|        102|2023-01-16|       2|       1|  Furniture|149.99|  Desk Chair|\n",
      "|       502|        103|2023-01-18|       4|       2|  Furniture|149.99|  Desk Chair|\n",
      "|       503|        101|2023-01-17|       3|       3|Electronics|699.99|  Smartphone|\n",
      "+----------+-----------+----------+--------+--------+-----------+------+------------+\n",
      "\n"
     ]
    },
    {
     "name": "stderr",
     "output_type": "stream",
     "text": [
      "                                                                                "
     ]
    }
   ],
   "source": [
    "order_details = orders_df.join(products_df, 'product_id', 'inner')\n",
    "order_details.show()"
   ]
  },
  {
   "cell_type": "markdown",
   "id": "0cb35de3-cd5b-40a7-890b-b48cbe8c9b3f",
   "metadata": {},
   "source": [
    "## Calculate total revenue per product"
   ]
  },
  {
   "cell_type": "code",
   "execution_count": 41,
   "id": "3322cce4-4bdd-46c0-891b-6ce4fe2048d2",
   "metadata": {},
   "outputs": [
    {
     "name": "stderr",
     "output_type": "stream",
     "text": [
      "[Stage 124:>                                                        (0 + 4) / 4]"
     ]
    },
    {
     "name": "stdout",
     "output_type": "stream",
     "text": [
      "+----------+------------+------------------+\n",
      "|product_id|product_name|     total_revenue|\n",
      "+----------+------------+------------------+\n",
      "|       501|      Laptop|2999.9700000000003|\n",
      "|       503|  Smartphone|2099.9700000000003|\n",
      "|       502|  Desk Chair|            449.97|\n",
      "+----------+------------+------------------+\n",
      "\n"
     ]
    },
    {
     "name": "stderr",
     "output_type": "stream",
     "text": [
      "                                                                                "
     ]
    }
   ],
   "source": [
    "revenue_by_product = order_details.groupBy('product_id', 'product_name')\\\n",
    "                    .agg(sum(col('quantity') * col('price')).alias('total_revenue'))\\\n",
    "                    .orderBy(desc('total_revenue'))\n",
    "\n",
    "revenue_by_product.show()"
   ]
  },
  {
   "cell_type": "markdown",
   "id": "4223b73d-7eb0-40ad-93af-5e95b26e0662",
   "metadata": {},
   "source": [
    "## Find the most popular product (by quantity sold)"
   ]
  },
  {
   "cell_type": "code",
   "execution_count": 42,
   "id": "5b3d9292-7e6a-43e1-89f9-ae2b29e8435b",
   "metadata": {},
   "outputs": [
    {
     "name": "stdout",
     "output_type": "stream",
     "text": [
      "+----------+------------+--------------+\n",
      "|product_id|product_name|total_quantity|\n",
      "+----------+------------+--------------+\n",
      "|       501|      Laptop|             3|\n",
      "|       502|  Desk Chair|             3|\n",
      "|       503|  Smartphone|             3|\n",
      "+----------+------------+--------------+\n",
      "\n"
     ]
    },
    {
     "name": "stderr",
     "output_type": "stream",
     "text": [
      "                                                                                "
     ]
    }
   ],
   "source": [
    "most_popular_product = order_details.groupBy('product_id', 'product_name')\\\n",
    "    .agg(sum(col('quantity')).alias('total_quantity'))\\\n",
    "    .orderBy(desc('total_quantity'))\n",
    "\n",
    "most_popular_product.show()"
   ]
  },
  {
   "cell_type": "markdown",
   "id": "d34e4f84-67e1-43ef-82c2-af151ad0d4ae",
   "metadata": {},
   "source": [
    "## Calculate total revenue per customer"
   ]
  },
  {
   "cell_type": "code",
   "execution_count": 43,
   "id": "1002b25b-1495-4b2f-95f9-3a2bb1f7a188",
   "metadata": {},
   "outputs": [
    {
     "name": "stdout",
     "output_type": "stream",
     "text": [
      "+-----------+-----------------+\n",
      "|customer_id|    total_revenue|\n",
      "+-----------+-----------------+\n",
      "|        101|4099.950000000001|\n",
      "|        102|          1149.98|\n",
      "|        103|           299.98|\n",
      "+-----------+-----------------+\n",
      "\n"
     ]
    },
    {
     "name": "stderr",
     "output_type": "stream",
     "text": [
      "                                                                                "
     ]
    }
   ],
   "source": [
    "revenue_per_customer = order_details.groupBy('customer_id')\\\n",
    "    .agg(sum(col('quantity') * col('price')).alias('total_revenue'))\\\n",
    "    .orderBy(desc('total_revenue'))\n",
    "\n",
    "revenue_per_customer.show()"
   ]
  },
  {
   "cell_type": "markdown",
   "id": "41a066bc-8e79-4ab1-a4da-8ddec6962d1c",
   "metadata": {},
   "source": [
    "## Perform a left join to see all products, even those not ordered"
   ]
  },
  {
   "cell_type": "code",
   "execution_count": 44,
   "id": "674891b4-ee33-44b1-8028-1f444302d27f",
   "metadata": {},
   "outputs": [
    {
     "name": "stderr",
     "output_type": "stream",
     "text": [
      "                                                                                "
     ]
    },
    {
     "name": "stdout",
     "output_type": "stream",
     "text": [
      "+----------+-----------+----------+--------+--------+-----------+------+------------+\n",
      "|product_id|customer_id|order_date|order_id|quantity|   category| price|product_name|\n",
      "+----------+-----------+----------+--------+--------+-----------+------+------------+\n",
      "|       501|        101|2023-01-15|       1|       2|Electronics|999.99|      Laptop|\n",
      "|       502|        102|2023-01-16|       2|       1|  Furniture|149.99|  Desk Chair|\n",
      "|       503|        101|2023-01-17|       3|       3|Electronics|699.99|  Smartphone|\n",
      "|       502|        103|2023-01-18|       4|       2|  Furniture|149.99|  Desk Chair|\n",
      "|       501|        102|2023-01-19|       5|       1|Electronics|999.99|      Laptop|\n",
      "+----------+-----------+----------+--------+--------+-----------+------+------------+\n",
      "\n"
     ]
    }
   ],
   "source": [
    "all_products = orders_df.join(products_df, 'product_id', 'left')\n",
    "\n",
    "all_products.show()"
   ]
  }
 ],
 "metadata": {
  "kernelspec": {
   "display_name": "Python 3 (ipykernel)",
   "language": "python",
   "name": "python3"
  },
  "language_info": {
   "codemirror_mode": {
    "name": "ipython",
    "version": 3
   },
   "file_extension": ".py",
   "mimetype": "text/x-python",
   "name": "python",
   "nbconvert_exporter": "python",
   "pygments_lexer": "ipython3",
   "version": "3.12.3"
  }
 },
 "nbformat": 4,
 "nbformat_minor": 5
}
